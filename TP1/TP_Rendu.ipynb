{
 "cells": [
  {
   "cell_type": "markdown",
   "id": "fd18f160",
   "metadata": {},
   "source": [
    "# Tp 1 - Initiation"
   ]
  },
  {
   "cell_type": "markdown",
   "id": "c2d1b216",
   "metadata": {},
   "source": [
    "Realisé par Manar Hakoume et Bilel Rahmouni"
   ]
  },
  {
   "cell_type": "markdown",
   "id": "460f334c",
   "metadata": {},
   "source": [
    "### Importation"
   ]
  },
  {
   "cell_type": "code",
   "execution_count": 118,
   "id": "c11e2c99",
   "metadata": {},
   "outputs": [],
   "source": [
    "import pandas as pd\n",
    "import matplotlib.pyplot as plt"
   ]
  },
  {
   "cell_type": "code",
   "execution_count": 36,
   "id": "f6118855",
   "metadata": {},
   "outputs": [],
   "source": [
    "fileCapital = pd.read_excel('Capital.xls')\n",
    "x_axis = fileCapital['Y']\n",
    "y_axis=fileCapital['X']"
   ]
  },
  {
   "cell_type": "markdown",
   "id": "a34be05f",
   "metadata": {},
   "source": [
    "### Classification en un nouveau tableau"
   ]
  },
  {
   "cell_type": "code",
   "execution_count": 41,
   "id": "071552b6",
   "metadata": {},
   "outputs": [
    {
     "data": {
      "text/html": [
       "<div>\n",
       "<style scoped>\n",
       "    .dataframe tbody tr th:only-of-type {\n",
       "        vertical-align: middle;\n",
       "    }\n",
       "\n",
       "    .dataframe tbody tr th {\n",
       "        vertical-align: top;\n",
       "    }\n",
       "\n",
       "    .dataframe thead th {\n",
       "        text-align: right;\n",
       "    }\n",
       "</style>\n",
       "<table border=\"1\" class=\"dataframe\">\n",
       "  <thead>\n",
       "    <tr style=\"text-align: right;\">\n",
       "      <th></th>\n",
       "      <th>X</th>\n",
       "      <th>Y</th>\n",
       "      <th>Z</th>\n",
       "    </tr>\n",
       "  </thead>\n",
       "  <tbody>\n",
       "    <tr>\n",
       "      <th>0</th>\n",
       "      <td>Aix en provence</td>\n",
       "      <td>18.94</td>\n",
       "      <td>Sud-Est</td>\n",
       "    </tr>\n",
       "    <tr>\n",
       "      <th>1</th>\n",
       "      <td>Ajaccio</td>\n",
       "      <td>22.06</td>\n",
       "      <td>Sud-Est</td>\n",
       "    </tr>\n",
       "    <tr>\n",
       "      <th>2</th>\n",
       "      <td>Amiens</td>\n",
       "      <td>17.97</td>\n",
       "      <td>Nord</td>\n",
       "    </tr>\n",
       "    <tr>\n",
       "      <th>3</th>\n",
       "      <td>Angers</td>\n",
       "      <td>18.86</td>\n",
       "      <td>Ouest</td>\n",
       "    </tr>\n",
       "    <tr>\n",
       "      <th>4</th>\n",
       "      <td>Annecy</td>\n",
       "      <td>14.97</td>\n",
       "      <td>Sud-Est</td>\n",
       "    </tr>\n",
       "  </tbody>\n",
       "</table>\n",
       "</div>"
      ],
      "text/plain": [
       "                 X      Y        Z\n",
       "0  Aix en provence  18.94  Sud-Est\n",
       "1          Ajaccio  22.06  Sud-Est\n",
       "2           Amiens  17.97     Nord\n",
       "3           Angers  18.86    Ouest\n",
       "4           Annecy  14.97  Sud-Est"
      ]
     },
     "execution_count": 41,
     "metadata": {},
     "output_type": "execute_result"
    }
   ],
   "source": [
    "df = fileCapital\n",
    "df.columns = ['X','Y','Z']\n",
    "df.head()"
   ]
  },
  {
   "cell_type": "code",
   "execution_count": 43,
   "id": "f6d8ebb8",
   "metadata": {},
   "outputs": [
    {
     "data": {
      "text/plain": [
       "Ile-de-France    26\n",
       "Sud-Est          18\n",
       "Ouest            14\n",
       "Centre           13\n",
       "Est              10\n",
       "Sud-Ouest        10\n",
       "Nord              9\n",
       "Name: Z, dtype: int64"
      ]
     },
     "execution_count": 43,
     "metadata": {},
     "output_type": "execute_result"
    }
   ],
   "source": [
    "s = df.Z\n",
    "counts = s.value_counts()\n",
    "counts"
   ]
  },
  {
   "cell_type": "code",
   "execution_count": 51,
   "id": "2f459a97",
   "metadata": {},
   "outputs": [
    {
     "data": {
      "text/plain": [
       "Ile-de-France    26.0\n",
       "Sud-Est          18.0\n",
       "Ouest            14.0\n",
       "Centre           13.0\n",
       "Est              10.0\n",
       "Sud-Ouest        10.0\n",
       "Nord              9.0\n",
       "Name: Z, dtype: float64"
      ]
     },
     "execution_count": 51,
     "metadata": {},
     "output_type": "execute_result"
    }
   ],
   "source": [
    "percent = s.value_counts(normalize = True).mul(100)\n",
    "percent"
   ]
  },
  {
   "cell_type": "code",
   "execution_count": 63,
   "id": "5efdec84",
   "metadata": {},
   "outputs": [
    {
     "data": {
      "text/html": [
       "<div>\n",
       "<style scoped>\n",
       "    .dataframe tbody tr th:only-of-type {\n",
       "        vertical-align: middle;\n",
       "    }\n",
       "\n",
       "    .dataframe tbody tr th {\n",
       "        vertical-align: top;\n",
       "    }\n",
       "\n",
       "    .dataframe thead th {\n",
       "        text-align: right;\n",
       "    }\n",
       "</style>\n",
       "<table border=\"1\" class=\"dataframe\">\n",
       "  <thead>\n",
       "    <tr style=\"text-align: right;\">\n",
       "      <th></th>\n",
       "      <th>Pourcentage</th>\n",
       "    </tr>\n",
       "  </thead>\n",
       "  <tbody>\n",
       "    <tr>\n",
       "      <th>Ile-de-France</th>\n",
       "      <td>26.0</td>\n",
       "    </tr>\n",
       "    <tr>\n",
       "      <th>Sud-Est</th>\n",
       "      <td>18.0</td>\n",
       "    </tr>\n",
       "    <tr>\n",
       "      <th>Ouest</th>\n",
       "      <td>14.0</td>\n",
       "    </tr>\n",
       "    <tr>\n",
       "      <th>Centre</th>\n",
       "      <td>13.0</td>\n",
       "    </tr>\n",
       "    <tr>\n",
       "      <th>Est</th>\n",
       "      <td>10.0</td>\n",
       "    </tr>\n",
       "    <tr>\n",
       "      <th>Sud-Ouest</th>\n",
       "      <td>10.0</td>\n",
       "    </tr>\n",
       "    <tr>\n",
       "      <th>Nord</th>\n",
       "      <td>9.0</td>\n",
       "    </tr>\n",
       "  </tbody>\n",
       "</table>\n",
       "</div>"
      ],
      "text/plain": [
       "               Pourcentage\n",
       "Ile-de-France         26.0\n",
       "Sud-Est               18.0\n",
       "Ouest                 14.0\n",
       "Centre                13.0\n",
       "Est                   10.0\n",
       "Sud-Ouest             10.0\n",
       "Nord                   9.0"
      ]
     },
     "execution_count": 63,
     "metadata": {},
     "output_type": "execute_result"
    }
   ],
   "source": [
    "df =pd.DataFrame({'Pourcentage':percent})\n",
    "df"
   ]
  },
  {
   "cell_type": "markdown",
   "id": "ec7cf5fa",
   "metadata": {},
   "source": [
    "### Histogramme "
   ]
  },
  {
   "cell_type": "code",
   "execution_count": 117,
   "id": "b8045c05",
   "metadata": {
    "scrolled": false
   },
   "outputs": [
    {
     "data": {
      "text/plain": [
       "<AxesSubplot:title={'center':'Histogramme'}>"
      ]
     },
     "execution_count": 117,
     "metadata": {},
     "output_type": "execute_result"
    },
    {
     "data": {
      "image/png": "[encoded data removed]",
      "text/plain": [
       "<Figure size 640x480 with 1 Axes>"
      ]
     },
     "metadata": {},
     "output_type": "display_data"
    }
   ],
   "source": [
    "ax =df.plot.bar(y='Pourcentage',rot=20,title='Histogramme')\n",
    "ax"
   ]
  },
  {
   "cell_type": "markdown",
   "id": "1e72c49c",
   "metadata": {},
   "source": [
    "### Histogramme horizontale"
   ]
  },
  {
   "cell_type": "code",
   "execution_count": 128,
   "id": "66c90cc8",
   "metadata": {},
   "outputs": [
    {
     "data": {
      "text/plain": [
       "<AxesSubplot:title={'center':'Histogramme'}>"
      ]
     },
     "execution_count": 128,
     "metadata": {},
     "output_type": "execute_result"
    },
    {
     "data": {
      "image/png": "[encoded data removed]",
      "text/plain": [
       "<Figure size 640x480 with 1 Axes>"
      ]
     },
     "metadata": {},
     "output_type": "display_data"
    }
   ],
   "source": [
    "ax =df.plot.barh(y='Pourcentage',rot=0,title='Histogramme')\n",
    "ax"
   ]
  },
  {
   "cell_type": "markdown",
   "id": "1fd3f566",
   "metadata": {},
   "source": [
    "### Nuages de points"
   ]
  },
  {
   "cell_type": "code",
   "execution_count": 137,
   "id": "f1df93d1",
   "metadata": {},
   "outputs": [
    {
     "data": {
      "image/png": "[encoded data removed]",
      "text/plain": [
       "<Figure size 640x480 with 1 Axes>"
      ]
     },
     "metadata": {},
     "output_type": "display_data"
    }
   ],
   "source": [
    "dots = df.plot.scatter(x='Z',y='Y', title=\"Taux d'habitation par régions\")"
   ]
  },
  {
   "cell_type": "markdown",
   "id": "cadc48b1",
   "metadata": {},
   "source": [
    "### Diagramme Circulaire"
   ]
  },
  {
   "cell_type": "code",
   "execution_count": 126,
   "id": "0c83eb28",
   "metadata": {
    "scrolled": false
   },
   "outputs": [
    {
     "data": {
      "text/plain": [
       "<AxesSubplot:title={'center':'Diagramme circulaire'}, ylabel='Pourcentage'>"
      ]
     },
     "execution_count": 126,
     "metadata": {},
     "output_type": "execute_result"
    },
    {
     "data": {
      "image/png": "[encoded data removed]",
      "text/plain": [
       "<Figure size 640x480 with 1 Axes>"
      ]
     },
     "metadata": {},
     "output_type": "display_data"
    }
   ],
   "source": [
    "pie =df.plot.pie(y='Pourcentage',radius=1.2,autopct='%1i%%',title='Diagramme circulaire',labeldistance=None)\n",
    "pie.legend(bbox_to_anchor=(1,1.0),loc='upper left')\n",
    "pie"
   ]
  },
  {
   "cell_type": "markdown",
   "id": "a9118e06",
   "metadata": {},
   "source": [
    "La région la plus représentée a partir de ces differents diagrammes est la région de l'Ile de France."
   ]
  },
  {
   "cell_type": "markdown",
   "id": "69156f4d",
   "metadata": {},
   "source": [
    "## Statistiques Taxe d'habitation en géneral"
   ]
  },
  {
   "cell_type": "markdown",
   "id": "ad5d968e",
   "metadata": {},
   "source": [
    "### Données"
   ]
  },
  {
   "cell_type": "code",
   "execution_count": 131,
   "id": "bdb82d80",
   "metadata": {},
   "outputs": [
    {
     "data": {
      "text/plain": [
       "0     18.94\n",
       "1     22.06\n",
       "2     17.97\n",
       "3     18.86\n",
       "4     14.97\n",
       "      ...  \n",
       "95    18.70\n",
       "96     8.95\n",
       "97    29.96\n",
       "98    19.85\n",
       "99    11.50\n",
       "Name: Y, Length: 100, dtype: float64"
      ]
     },
     "execution_count": 131,
     "metadata": {},
     "output_type": "execute_result"
    }
   ],
   "source": [
    "taxe = df.Y\n",
    "taxe"
   ]
  },
  {
   "cell_type": "markdown",
   "id": "02cb7c8a",
   "metadata": {},
   "source": [
    "### Statistiques"
   ]
  },
  {
   "cell_type": "code",
   "execution_count": 132,
   "id": "79e8f993",
   "metadata": {},
   "outputs": [
    {
     "data": {
      "text/plain": [
       "17.7707"
      ]
     },
     "execution_count": 132,
     "metadata": {},
     "output_type": "execute_result"
    }
   ],
   "source": [
    "taxeMoyenne = taxe.mean()\n",
    "taxeMoyenne"
   ]
  },
  {
   "cell_type": "markdown",
   "id": "7ebeefb7",
   "metadata": {},
   "source": [
    "La moyenne de la taxe d'habitation en general est de 17.77"
   ]
  },
  {
   "cell_type": "code",
   "execution_count": 133,
   "id": "02bd7a58",
   "metadata": {},
   "outputs": [
    {
     "data": {
      "text/plain": [
       "5.529599188170711"
      ]
     },
     "execution_count": 133,
     "metadata": {},
     "output_type": "execute_result"
    }
   ],
   "source": [
    "taxeEcartType = taxe.std()\n",
    "taxeEcartType"
   ]
  },
  {
   "cell_type": "markdown",
   "id": "5db64b04",
   "metadata": {},
   "source": [
    "L'ecart Type de la taxe d'habitation en general est de 5.52"
   ]
  },
  {
   "cell_type": "code",
   "execution_count": 134,
   "id": "2f671b64",
   "metadata": {},
   "outputs": [
    {
     "data": {
      "text/plain": [
       "count    100.000000\n",
       "mean      17.770700\n",
       "std        5.529599\n",
       "min        3.680000\n",
       "25%       15.062500\n",
       "50%       17.625000\n",
       "75%       20.522500\n",
       "max       36.170000\n",
       "Name: Y, dtype: float64"
      ]
     },
     "execution_count": 134,
     "metadata": {},
     "output_type": "execute_result"
    }
   ],
   "source": [
    "taxe.describe()"
   ]
  },
  {
   "cell_type": "markdown",
   "id": "d454aae9",
   "metadata": {},
   "source": [
    "## Statistique des Taxe d'habitation par Region"
   ]
  },
  {
   "cell_type": "code",
   "execution_count": 136,
   "id": "d570f958",
   "metadata": {},
   "outputs": [
    {
     "data": {
      "text/html": [
       "<div>\n",
       "<style scoped>\n",
       "    .dataframe tbody tr th:only-of-type {\n",
       "        vertical-align: middle;\n",
       "    }\n",
       "\n",
       "    .dataframe tbody tr th {\n",
       "        vertical-align: top;\n",
       "    }\n",
       "\n",
       "    .dataframe thead th {\n",
       "        text-align: right;\n",
       "    }\n",
       "</style>\n",
       "<table border=\"1\" class=\"dataframe\">\n",
       "  <thead>\n",
       "    <tr style=\"text-align: right;\">\n",
       "      <th></th>\n",
       "      <th>count</th>\n",
       "      <th>mean</th>\n",
       "      <th>std</th>\n",
       "      <th>min</th>\n",
       "      <th>25%</th>\n",
       "      <th>50%</th>\n",
       "      <th>75%</th>\n",
       "      <th>max</th>\n",
       "    </tr>\n",
       "    <tr>\n",
       "      <th>Z</th>\n",
       "      <th></th>\n",
       "      <th></th>\n",
       "      <th></th>\n",
       "      <th></th>\n",
       "      <th></th>\n",
       "      <th></th>\n",
       "      <th></th>\n",
       "      <th></th>\n",
       "    </tr>\n",
       "  </thead>\n",
       "  <tbody>\n",
       "    <tr>\n",
       "      <th>Centre</th>\n",
       "      <td>13.0</td>\n",
       "      <td>18.115385</td>\n",
       "      <td>1.906881</td>\n",
       "      <td>15.77</td>\n",
       "      <td>17.0700</td>\n",
       "      <td>17.370</td>\n",
       "      <td>19.1900</td>\n",
       "      <td>21.55</td>\n",
       "    </tr>\n",
       "    <tr>\n",
       "      <th>Est</th>\n",
       "      <td>10.0</td>\n",
       "      <td>17.662000</td>\n",
       "      <td>2.095200</td>\n",
       "      <td>14.98</td>\n",
       "      <td>16.3875</td>\n",
       "      <td>16.975</td>\n",
       "      <td>18.1850</td>\n",
       "      <td>22.04</td>\n",
       "    </tr>\n",
       "    <tr>\n",
       "      <th>Ile-de-France</th>\n",
       "      <td>26.0</td>\n",
       "      <td>11.764615</td>\n",
       "      <td>3.879327</td>\n",
       "      <td>3.68</td>\n",
       "      <td>9.2425</td>\n",
       "      <td>11.285</td>\n",
       "      <td>14.7375</td>\n",
       "      <td>19.32</td>\n",
       "    </tr>\n",
       "    <tr>\n",
       "      <th>Nord</th>\n",
       "      <td>9.0</td>\n",
       "      <td>25.951111</td>\n",
       "      <td>7.099798</td>\n",
       "      <td>15.37</td>\n",
       "      <td>20.4600</td>\n",
       "      <td>27.970</td>\n",
       "      <td>29.9600</td>\n",
       "      <td>36.17</td>\n",
       "    </tr>\n",
       "    <tr>\n",
       "      <th>Ouest</th>\n",
       "      <td>14.0</td>\n",
       "      <td>18.896429</td>\n",
       "      <td>3.098314</td>\n",
       "      <td>14.00</td>\n",
       "      <td>16.6875</td>\n",
       "      <td>18.265</td>\n",
       "      <td>21.0900</td>\n",
       "      <td>25.99</td>\n",
       "    </tr>\n",
       "    <tr>\n",
       "      <th>Sud-Est</th>\n",
       "      <td>18.0</td>\n",
       "      <td>19.769444</td>\n",
       "      <td>2.938534</td>\n",
       "      <td>14.30</td>\n",
       "      <td>18.7675</td>\n",
       "      <td>19.575</td>\n",
       "      <td>21.4225</td>\n",
       "      <td>25.98</td>\n",
       "    </tr>\n",
       "    <tr>\n",
       "      <th>Sud-Ouest</th>\n",
       "      <td>10.0</td>\n",
       "      <td>20.511000</td>\n",
       "      <td>4.549406</td>\n",
       "      <td>12.72</td>\n",
       "      <td>19.2700</td>\n",
       "      <td>21.010</td>\n",
       "      <td>21.9325</td>\n",
       "      <td>30.23</td>\n",
       "    </tr>\n",
       "  </tbody>\n",
       "</table>\n",
       "</div>"
      ],
      "text/plain": [
       "               count       mean       std    min      25%     50%      75%  \\\n",
       "Z                                                                            \n",
       "Centre          13.0  18.115385  1.906881  15.77  17.0700  17.370  19.1900   \n",
       "Est             10.0  17.662000  2.095200  14.98  16.3875  16.975  18.1850   \n",
       "Ile-de-France   26.0  11.764615  3.879327   3.68   9.2425  11.285  14.7375   \n",
       "Nord             9.0  25.951111  7.099798  15.37  20.4600  27.970  29.9600   \n",
       "Ouest           14.0  18.896429  3.098314  14.00  16.6875  18.265  21.0900   \n",
       "Sud-Est         18.0  19.769444  2.938534  14.30  18.7675  19.575  21.4225   \n",
       "Sud-Ouest       10.0  20.511000  4.549406  12.72  19.2700  21.010  21.9325   \n",
       "\n",
       "                 max  \n",
       "Z                     \n",
       "Centre         21.55  \n",
       "Est            22.04  \n",
       "Ile-de-France  19.32  \n",
       "Nord           36.17  \n",
       "Ouest          25.99  \n",
       "Sud-Est        25.98  \n",
       "Sud-Ouest      30.23  "
      ]
     },
     "execution_count": 136,
     "metadata": {},
     "output_type": "execute_result"
    }
   ],
   "source": [
    "df.groupby('Z')['Y'].describe()"
   ]
  },
  {
   "cell_type": "markdown",
   "id": "434d1a3b",
   "metadata": {},
   "source": [
    "D'apres les statistiques la région la plus interessante pour le taux de taxe d'habitation est l'ile de france qui présente le taux d'habitation le plus bas."
   ]
  },
  {
   "cell_type": "markdown",
   "id": "28c4057d",
   "metadata": {},
   "source": [
    "De plus, la moyenne nationale est de 17.77 donc la region la plus représentative de la moyenne nationale est la régiion de l'EST avec une moyenne de 17.66 ."
   ]
  },
  {
   "cell_type": "markdown",
   "id": "e3a01e7b",
   "metadata": {},
   "source": [
    "## Typologie selon la taxe d'habitation"
   ]
  },
  {
   "cell_type": "code",
   "execution_count": 138,
   "id": "bad6b8b5",
   "metadata": {},
   "outputs": [],
   "source": [
    "regions = ['Centre','Est','Ile-de-France','Nord','Ouest','Sud-Est','Sud-Ouest']\n",
    "moyennes = [18.115385,17.662000,11.764615,25.95111,18.896429,19.769444,20.511000]"
   ]
  },
  {
   "cell_type": "code",
   "execution_count": 139,
   "id": "b04740aa",
   "metadata": {},
   "outputs": [
    {
     "data": {
      "text/html": [
       "<div>\n",
       "<style scoped>\n",
       "    .dataframe tbody tr th:only-of-type {\n",
       "        vertical-align: middle;\n",
       "    }\n",
       "\n",
       "    .dataframe tbody tr th {\n",
       "        vertical-align: top;\n",
       "    }\n",
       "\n",
       "    .dataframe thead th {\n",
       "        text-align: right;\n",
       "    }\n",
       "</style>\n",
       "<table border=\"1\" class=\"dataframe\">\n",
       "  <thead>\n",
       "    <tr style=\"text-align: right;\">\n",
       "      <th></th>\n",
       "      <th>Regions</th>\n",
       "      <th>Moyennes</th>\n",
       "    </tr>\n",
       "  </thead>\n",
       "  <tbody>\n",
       "    <tr>\n",
       "      <th>0</th>\n",
       "      <td>Centre</td>\n",
       "      <td>18.115385</td>\n",
       "    </tr>\n",
       "    <tr>\n",
       "      <th>1</th>\n",
       "      <td>Est</td>\n",
       "      <td>17.662000</td>\n",
       "    </tr>\n",
       "    <tr>\n",
       "      <th>2</th>\n",
       "      <td>Ile-de-France</td>\n",
       "      <td>11.764615</td>\n",
       "    </tr>\n",
       "    <tr>\n",
       "      <th>3</th>\n",
       "      <td>Nord</td>\n",
       "      <td>25.951110</td>\n",
       "    </tr>\n",
       "    <tr>\n",
       "      <th>4</th>\n",
       "      <td>Ouest</td>\n",
       "      <td>18.896429</td>\n",
       "    </tr>\n",
       "    <tr>\n",
       "      <th>5</th>\n",
       "      <td>Sud-Est</td>\n",
       "      <td>19.769444</td>\n",
       "    </tr>\n",
       "    <tr>\n",
       "      <th>6</th>\n",
       "      <td>Sud-Ouest</td>\n",
       "      <td>20.511000</td>\n",
       "    </tr>\n",
       "  </tbody>\n",
       "</table>\n",
       "</div>"
      ],
      "text/plain": [
       "         Regions   Moyennes\n",
       "0         Centre  18.115385\n",
       "1            Est  17.662000\n",
       "2  Ile-de-France  11.764615\n",
       "3           Nord  25.951110\n",
       "4          Ouest  18.896429\n",
       "5        Sud-Est  19.769444\n",
       "6      Sud-Ouest  20.511000"
      ]
     },
     "execution_count": 139,
     "metadata": {},
     "output_type": "execute_result"
    }
   ],
   "source": [
    "newData = {'Regions': regions, 'Moyennes': moyennes}\n",
    "df = pd.DataFrame(newData)\n",
    "df"
   ]
  },
  {
   "cell_type": "markdown",
   "id": "14981a87",
   "metadata": {},
   "source": [
    "#### Clasification :"
   ]
  },
  {
   "cell_type": "code",
   "execution_count": 141,
   "id": "7fdda62b",
   "metadata": {},
   "outputs": [],
   "source": [
    "def operation(x):\n",
    "    return(x.mean())"
   ]
  },
  {
   "cell_type": "markdown",
   "id": "94b2c62c",
   "metadata": {},
   "source": [
    "##### Groupe 1"
   ]
  },
  {
   "cell_type": "code",
   "execution_count": 142,
   "id": "7c0be6f2",
   "metadata": {},
   "outputs": [
    {
     "name": "stdout",
     "output_type": "stream",
     "text": [
      "Groupe 1 \n",
      "Centre, Est, Ouest, Sud-Est, Sud-Ouest\n"
     ]
    },
    {
     "data": {
      "text/plain": [
       "Moyennes    18.990852\n",
       "dtype: float64"
      ]
     },
     "execution_count": 142,
     "metadata": {},
     "output_type": "execute_result"
    }
   ],
   "source": [
    "print(\"Groupe 1 \")\n",
    "print(regions[0]+', '+regions[1]+', '+regions[4]+', '+regions[5]+', '+regions[6]) \n",
    "df.iloc[[0,1,4,5,6],:].select_dtypes(exclude=['object']).apply(operation, axis=0)"
   ]
  },
  {
   "cell_type": "markdown",
   "id": "8cf35d40",
   "metadata": {},
   "source": [
    "##### Groupe 2"
   ]
  },
  {
   "cell_type": "code",
   "execution_count": 143,
   "id": "7abb4a34",
   "metadata": {},
   "outputs": [
    {
     "name": "stdout",
     "output_type": "stream",
     "text": [
      "Groupe 2 \n",
      "Ile-de-France\n"
     ]
    },
    {
     "data": {
      "text/plain": [
       "Moyennes    11.764615\n",
       "dtype: float64"
      ]
     },
     "execution_count": 143,
     "metadata": {},
     "output_type": "execute_result"
    }
   ],
   "source": [
    "print(\"Groupe 2 \")\n",
    "print(regions[2]) \n",
    "df.iloc[[2],:].select_dtypes(exclude=['object']).apply(operation, axis=0)"
   ]
  },
  {
   "cell_type": "markdown",
   "id": "de0e2c84",
   "metadata": {},
   "source": [
    "##### Groupe 3"
   ]
  },
  {
   "cell_type": "code",
   "execution_count": 144,
   "id": "96ab61ef",
   "metadata": {},
   "outputs": [
    {
     "name": "stdout",
     "output_type": "stream",
     "text": [
      "Groupe 3 \n",
      "Nord\n"
     ]
    },
    {
     "data": {
      "text/plain": [
       "Moyennes    25.95111\n",
       "dtype: float64"
      ]
     },
     "execution_count": 144,
     "metadata": {},
     "output_type": "execute_result"
    }
   ],
   "source": [
    "print(\"Groupe 3 \")\n",
    "print(regions[3]) \n",
    "df.iloc[[3],:].select_dtypes(exclude=['object']).apply(operation, axis=0)"
   ]
  },
  {
   "cell_type": "markdown",
   "id": "9606075b",
   "metadata": {},
   "source": [
    "### 30% au dessus de la moyenne de la taxe d'habitation"
   ]
  },
  {
   "cell_type": "code",
   "execution_count": 145,
   "id": "c5df844b",
   "metadata": {},
   "outputs": [
    {
     "data": {
      "text/html": [
       "<div>\n",
       "<style scoped>\n",
       "    .dataframe tbody tr th:only-of-type {\n",
       "        vertical-align: middle;\n",
       "    }\n",
       "\n",
       "    .dataframe tbody tr th {\n",
       "        vertical-align: top;\n",
       "    }\n",
       "\n",
       "    .dataframe thead th {\n",
       "        text-align: right;\n",
       "    }\n",
       "</style>\n",
       "<table border=\"1\" class=\"dataframe\">\n",
       "  <thead>\n",
       "    <tr style=\"text-align: right;\">\n",
       "      <th></th>\n",
       "      <th>X</th>\n",
       "      <th>Y</th>\n",
       "      <th>Z</th>\n",
       "    </tr>\n",
       "  </thead>\n",
       "  <tbody>\n",
       "    <tr>\n",
       "      <th>49</th>\n",
       "      <td>Lille</td>\n",
       "      <td>36.17</td>\n",
       "      <td>Nord</td>\n",
       "    </tr>\n",
       "    <tr>\n",
       "      <th>91</th>\n",
       "      <td>Tourcoing</td>\n",
       "      <td>33.61</td>\n",
       "      <td>Nord</td>\n",
       "    </tr>\n",
       "    <tr>\n",
       "      <th>66</th>\n",
       "      <td>Nimes</td>\n",
       "      <td>30.23</td>\n",
       "      <td>Sud-Ouest</td>\n",
       "    </tr>\n",
       "    <tr>\n",
       "      <th>97</th>\n",
       "      <td>Villeneuve-d'Asq</td>\n",
       "      <td>29.96</td>\n",
       "      <td>Nord</td>\n",
       "    </tr>\n",
       "    <tr>\n",
       "      <th>39</th>\n",
       "      <td>Dunkerque</td>\n",
       "      <td>28.69</td>\n",
       "      <td>Nord</td>\n",
       "    </tr>\n",
       "    <tr>\n",
       "      <th>78</th>\n",
       "      <td>Roubaix</td>\n",
       "      <td>27.97</td>\n",
       "      <td>Nord</td>\n",
       "    </tr>\n",
       "    <tr>\n",
       "      <th>21</th>\n",
       "      <td>Brest</td>\n",
       "      <td>25.99</td>\n",
       "      <td>Ouest</td>\n",
       "    </tr>\n",
       "    <tr>\n",
       "      <th>45</th>\n",
       "      <td>La Seyne-sur-Mer</td>\n",
       "      <td>25.98</td>\n",
       "      <td>Sud-Est</td>\n",
       "    </tr>\n",
       "    <tr>\n",
       "      <th>8</th>\n",
       "      <td>Arles</td>\n",
       "      <td>24.49</td>\n",
       "      <td>Sud-Est</td>\n",
       "    </tr>\n",
       "    <tr>\n",
       "      <th>24</th>\n",
       "      <td>Calais</td>\n",
       "      <td>23.36</td>\n",
       "      <td>Nord</td>\n",
       "    </tr>\n",
       "    <tr>\n",
       "      <th>12</th>\n",
       "      <td>Avignon</td>\n",
       "      <td>22.41</td>\n",
       "      <td>Sud-Est</td>\n",
       "    </tr>\n",
       "    <tr>\n",
       "      <th>16</th>\n",
       "      <td>Béziers</td>\n",
       "      <td>22.14</td>\n",
       "      <td>Sud-Ouest</td>\n",
       "    </tr>\n",
       "    <tr>\n",
       "      <th>18</th>\n",
       "      <td>Bordeaux</td>\n",
       "      <td>22.11</td>\n",
       "      <td>Sud-Ouest</td>\n",
       "    </tr>\n",
       "    <tr>\n",
       "      <th>1</th>\n",
       "      <td>Ajaccio</td>\n",
       "      <td>22.06</td>\n",
       "      <td>Sud-Est</td>\n",
       "    </tr>\n",
       "    <tr>\n",
       "      <th>88</th>\n",
       "      <td>Strasbourg</td>\n",
       "      <td>22.04</td>\n",
       "      <td>Est</td>\n",
       "    </tr>\n",
       "    <tr>\n",
       "      <th>54</th>\n",
       "      <td>Marseille</td>\n",
       "      <td>21.93</td>\n",
       "      <td>Sud-Est</td>\n",
       "    </tr>\n",
       "    <tr>\n",
       "      <th>77</th>\n",
       "      <td>Rennes</td>\n",
       "      <td>21.75</td>\n",
       "      <td>Ouest</td>\n",
       "    </tr>\n",
       "    <tr>\n",
       "      <th>74</th>\n",
       "      <td>Poitiers</td>\n",
       "      <td>21.55</td>\n",
       "      <td>Centre</td>\n",
       "    </tr>\n",
       "    <tr>\n",
       "      <th>58</th>\n",
       "      <td>Montpellier</td>\n",
       "      <td>21.40</td>\n",
       "      <td>Sud-Ouest</td>\n",
       "    </tr>\n",
       "    <tr>\n",
       "      <th>71</th>\n",
       "      <td>Pau</td>\n",
       "      <td>21.31</td>\n",
       "      <td>Sud-Ouest</td>\n",
       "    </tr>\n",
       "  </tbody>\n",
       "</table>\n",
       "</div>"
      ],
      "text/plain": [
       "                   X      Y          Z\n",
       "49             Lille  36.17       Nord\n",
       "91         Tourcoing  33.61       Nord\n",
       "66             Nimes  30.23  Sud-Ouest\n",
       "97  Villeneuve-d'Asq  29.96       Nord\n",
       "39         Dunkerque  28.69       Nord\n",
       "78           Roubaix  27.97       Nord\n",
       "21             Brest  25.99      Ouest\n",
       "45  La Seyne-sur-Mer  25.98    Sud-Est\n",
       "8              Arles  24.49    Sud-Est\n",
       "24            Calais  23.36       Nord\n",
       "12           Avignon  22.41    Sud-Est\n",
       "16           Béziers  22.14  Sud-Ouest\n",
       "18          Bordeaux  22.11  Sud-Ouest\n",
       "1            Ajaccio  22.06    Sud-Est\n",
       "88        Strasbourg  22.04        Est\n",
       "54         Marseille  21.93    Sud-Est\n",
       "77            Rennes  21.75      Ouest\n",
       "74          Poitiers  21.55     Centre\n",
       "58       Montpellier  21.40  Sud-Ouest\n",
       "71               Pau  21.31  Sud-Ouest"
      ]
     },
     "execution_count": 145,
     "metadata": {},
     "output_type": "execute_result"
    }
   ],
   "source": [
    "fileCapital.sort_values('Y',ascending=False).head((round(0.2*len(fileCapital))))"
   ]
  },
  {
   "cell_type": "markdown",
   "id": "a33a0ffe",
   "metadata": {},
   "source": [
    "### 30% en dessous de la moyenne de la taxe d'habitation "
   ]
  },
  {
   "cell_type": "code",
   "execution_count": 147,
   "id": "973ad350",
   "metadata": {},
   "outputs": [
    {
     "data": {
      "text/html": [
       "<div>\n",
       "<style scoped>\n",
       "    .dataframe tbody tr th:only-of-type {\n",
       "        vertical-align: middle;\n",
       "    }\n",
       "\n",
       "    .dataframe tbody tr th {\n",
       "        vertical-align: top;\n",
       "    }\n",
       "\n",
       "    .dataframe thead th {\n",
       "        text-align: right;\n",
       "    }\n",
       "</style>\n",
       "<table border=\"1\" class=\"dataframe\">\n",
       "  <thead>\n",
       "    <tr style=\"text-align: right;\">\n",
       "      <th></th>\n",
       "      <th>X</th>\n",
       "      <th>Y</th>\n",
       "      <th>Z</th>\n",
       "    </tr>\n",
       "  </thead>\n",
       "  <tbody>\n",
       "    <tr>\n",
       "      <th>64</th>\n",
       "      <td>Neuilly-sur-Seine</td>\n",
       "      <td>3.68</td>\n",
       "      <td>Ile-de-France</td>\n",
       "    </tr>\n",
       "    <tr>\n",
       "      <th>35</th>\n",
       "      <td>Courbevoie</td>\n",
       "      <td>4.86</td>\n",
       "      <td>Ile-de-France</td>\n",
       "    </tr>\n",
       "    <tr>\n",
       "      <th>62</th>\n",
       "      <td>Nanterre</td>\n",
       "      <td>6.13</td>\n",
       "      <td>Ile-de-France</td>\n",
       "    </tr>\n",
       "    <tr>\n",
       "      <th>96</th>\n",
       "      <td>Versailles</td>\n",
       "      <td>8.95</td>\n",
       "      <td>Ile-de-France</td>\n",
       "    </tr>\n",
       "    <tr>\n",
       "      <th>70</th>\n",
       "      <td>Paris</td>\n",
       "      <td>9.15</td>\n",
       "      <td>Ile-de-France</td>\n",
       "    </tr>\n",
       "    <tr>\n",
       "      <th>43</th>\n",
       "      <td>Ivry-sur-Seine</td>\n",
       "      <td>9.16</td>\n",
       "      <td>Ile-de-France</td>\n",
       "    </tr>\n",
       "    <tr>\n",
       "      <th>81</th>\n",
       "      <td>Saint-Denis</td>\n",
       "      <td>9.17</td>\n",
       "      <td>Ile-de-France</td>\n",
       "    </tr>\n",
       "    <tr>\n",
       "      <th>19</th>\n",
       "      <td>Boulogne-Billancourt</td>\n",
       "      <td>9.46</td>\n",
       "      <td>Ile-de-France</td>\n",
       "    </tr>\n",
       "    <tr>\n",
       "      <th>9</th>\n",
       "      <td>Asnières-sur-Seine</td>\n",
       "      <td>10.13</td>\n",
       "      <td>Ile-de-France</td>\n",
       "    </tr>\n",
       "    <tr>\n",
       "      <th>53</th>\n",
       "      <td>Maisons-Alfort</td>\n",
       "      <td>10.30</td>\n",
       "      <td>Ile-de-France</td>\n",
       "    </tr>\n",
       "    <tr>\n",
       "      <th>38</th>\n",
       "      <td>Drancy</td>\n",
       "      <td>10.42</td>\n",
       "      <td>Ile-de-France</td>\n",
       "    </tr>\n",
       "    <tr>\n",
       "      <th>83</th>\n",
       "      <td>St-Maur-des-Fossés</td>\n",
       "      <td>10.82</td>\n",
       "      <td>Ile-de-France</td>\n",
       "    </tr>\n",
       "    <tr>\n",
       "      <th>6</th>\n",
       "      <td>Antony</td>\n",
       "      <td>11.07</td>\n",
       "      <td>Ile-de-France</td>\n",
       "    </tr>\n",
       "    <tr>\n",
       "      <th>99</th>\n",
       "      <td>Vitry-sur-Seine</td>\n",
       "      <td>11.50</td>\n",
       "      <td>Ile-de-France</td>\n",
       "    </tr>\n",
       "    <tr>\n",
       "      <th>41</th>\n",
       "      <td>Fontenay-sous-Bois</td>\n",
       "      <td>12.10</td>\n",
       "      <td>Ile-de-France</td>\n",
       "    </tr>\n",
       "    <tr>\n",
       "      <th>87</th>\n",
       "      <td>Sartrouville</td>\n",
       "      <td>12.38</td>\n",
       "      <td>Ile-de-France</td>\n",
       "    </tr>\n",
       "    <tr>\n",
       "      <th>10</th>\n",
       "      <td>Aubervilliers</td>\n",
       "      <td>12.45</td>\n",
       "      <td>Ile-de-France</td>\n",
       "    </tr>\n",
       "    <tr>\n",
       "      <th>57</th>\n",
       "      <td>Montauban</td>\n",
       "      <td>12.72</td>\n",
       "      <td>Sud-Ouest</td>\n",
       "    </tr>\n",
       "    <tr>\n",
       "      <th>59</th>\n",
       "      <td>Montreuil</td>\n",
       "      <td>13.67</td>\n",
       "      <td>Ile-de-France</td>\n",
       "    </tr>\n",
       "    <tr>\n",
       "      <th>31</th>\n",
       "      <td>Cholet</td>\n",
       "      <td>14.00</td>\n",
       "      <td>Ouest</td>\n",
       "    </tr>\n",
       "  </tbody>\n",
       "</table>\n",
       "</div>"
      ],
      "text/plain": [
       "                       X      Y              Z\n",
       "64     Neuilly-sur-Seine   3.68  Ile-de-France\n",
       "35            Courbevoie   4.86  Ile-de-France\n",
       "62              Nanterre   6.13  Ile-de-France\n",
       "96            Versailles   8.95  Ile-de-France\n",
       "70                 Paris   9.15  Ile-de-France\n",
       "43        Ivry-sur-Seine   9.16  Ile-de-France\n",
       "81           Saint-Denis   9.17  Ile-de-France\n",
       "19  Boulogne-Billancourt   9.46  Ile-de-France\n",
       "9     Asnières-sur-Seine  10.13  Ile-de-France\n",
       "53        Maisons-Alfort  10.30  Ile-de-France\n",
       "38                Drancy  10.42  Ile-de-France\n",
       "83    St-Maur-des-Fossés  10.82  Ile-de-France\n",
       "6                 Antony  11.07  Ile-de-France\n",
       "99       Vitry-sur-Seine  11.50  Ile-de-France\n",
       "41    Fontenay-sous-Bois  12.10  Ile-de-France\n",
       "87          Sartrouville  12.38  Ile-de-France\n",
       "10         Aubervilliers  12.45  Ile-de-France\n",
       "57             Montauban  12.72      Sud-Ouest\n",
       "59             Montreuil  13.67  Ile-de-France\n",
       "31                Cholet  14.00          Ouest"
      ]
     },
     "execution_count": 147,
     "metadata": {},
     "output_type": "execute_result"
    }
   ],
   "source": [
    "fileCapital.sort_values('Y').head((round(0.2*len(fileCapital))))"
   ]
  },
  {
   "cell_type": "markdown",
   "id": "d291b0a3",
   "metadata": {},
   "source": [
    "### 20% au dessus de la moyenne de la taxe d'habitation "
   ]
  },
  {
   "cell_type": "code",
   "execution_count": 148,
   "id": "8ee46b9a",
   "metadata": {},
   "outputs": [
    {
     "data": {
      "text/html": [
       "<div>\n",
       "<style scoped>\n",
       "    .dataframe tbody tr th:only-of-type {\n",
       "        vertical-align: middle;\n",
       "    }\n",
       "\n",
       "    .dataframe tbody tr th {\n",
       "        vertical-align: top;\n",
       "    }\n",
       "\n",
       "    .dataframe thead th {\n",
       "        text-align: right;\n",
       "    }\n",
       "</style>\n",
       "<table border=\"1\" class=\"dataframe\">\n",
       "  <thead>\n",
       "    <tr style=\"text-align: right;\">\n",
       "      <th></th>\n",
       "      <th>X</th>\n",
       "      <th>Y</th>\n",
       "      <th>Z</th>\n",
       "    </tr>\n",
       "  </thead>\n",
       "  <tbody>\n",
       "    <tr>\n",
       "      <th>49</th>\n",
       "      <td>Lille</td>\n",
       "      <td>36.17</td>\n",
       "      <td>Nord</td>\n",
       "    </tr>\n",
       "    <tr>\n",
       "      <th>91</th>\n",
       "      <td>Tourcoing</td>\n",
       "      <td>33.61</td>\n",
       "      <td>Nord</td>\n",
       "    </tr>\n",
       "    <tr>\n",
       "      <th>66</th>\n",
       "      <td>Nimes</td>\n",
       "      <td>30.23</td>\n",
       "      <td>Sud-Ouest</td>\n",
       "    </tr>\n",
       "    <tr>\n",
       "      <th>97</th>\n",
       "      <td>Villeneuve-d'Asq</td>\n",
       "      <td>29.96</td>\n",
       "      <td>Nord</td>\n",
       "    </tr>\n",
       "    <tr>\n",
       "      <th>39</th>\n",
       "      <td>Dunkerque</td>\n",
       "      <td>28.69</td>\n",
       "      <td>Nord</td>\n",
       "    </tr>\n",
       "    <tr>\n",
       "      <th>78</th>\n",
       "      <td>Roubaix</td>\n",
       "      <td>27.97</td>\n",
       "      <td>Nord</td>\n",
       "    </tr>\n",
       "    <tr>\n",
       "      <th>21</th>\n",
       "      <td>Brest</td>\n",
       "      <td>25.99</td>\n",
       "      <td>Ouest</td>\n",
       "    </tr>\n",
       "    <tr>\n",
       "      <th>45</th>\n",
       "      <td>La Seyne-sur-Mer</td>\n",
       "      <td>25.98</td>\n",
       "      <td>Sud-Est</td>\n",
       "    </tr>\n",
       "    <tr>\n",
       "      <th>8</th>\n",
       "      <td>Arles</td>\n",
       "      <td>24.49</td>\n",
       "      <td>Sud-Est</td>\n",
       "    </tr>\n",
       "    <tr>\n",
       "      <th>24</th>\n",
       "      <td>Calais</td>\n",
       "      <td>23.36</td>\n",
       "      <td>Nord</td>\n",
       "    </tr>\n",
       "    <tr>\n",
       "      <th>12</th>\n",
       "      <td>Avignon</td>\n",
       "      <td>22.41</td>\n",
       "      <td>Sud-Est</td>\n",
       "    </tr>\n",
       "    <tr>\n",
       "      <th>16</th>\n",
       "      <td>Béziers</td>\n",
       "      <td>22.14</td>\n",
       "      <td>Sud-Ouest</td>\n",
       "    </tr>\n",
       "    <tr>\n",
       "      <th>18</th>\n",
       "      <td>Bordeaux</td>\n",
       "      <td>22.11</td>\n",
       "      <td>Sud-Ouest</td>\n",
       "    </tr>\n",
       "    <tr>\n",
       "      <th>1</th>\n",
       "      <td>Ajaccio</td>\n",
       "      <td>22.06</td>\n",
       "      <td>Sud-Est</td>\n",
       "    </tr>\n",
       "    <tr>\n",
       "      <th>88</th>\n",
       "      <td>Strasbourg</td>\n",
       "      <td>22.04</td>\n",
       "      <td>Est</td>\n",
       "    </tr>\n",
       "    <tr>\n",
       "      <th>54</th>\n",
       "      <td>Marseille</td>\n",
       "      <td>21.93</td>\n",
       "      <td>Sud-Est</td>\n",
       "    </tr>\n",
       "    <tr>\n",
       "      <th>77</th>\n",
       "      <td>Rennes</td>\n",
       "      <td>21.75</td>\n",
       "      <td>Ouest</td>\n",
       "    </tr>\n",
       "    <tr>\n",
       "      <th>74</th>\n",
       "      <td>Poitiers</td>\n",
       "      <td>21.55</td>\n",
       "      <td>Centre</td>\n",
       "    </tr>\n",
       "    <tr>\n",
       "      <th>58</th>\n",
       "      <td>Montpellier</td>\n",
       "      <td>21.40</td>\n",
       "      <td>Sud-Ouest</td>\n",
       "    </tr>\n",
       "    <tr>\n",
       "      <th>71</th>\n",
       "      <td>Pau</td>\n",
       "      <td>21.31</td>\n",
       "      <td>Sud-Ouest</td>\n",
       "    </tr>\n",
       "    <tr>\n",
       "      <th>40</th>\n",
       "      <td>Evreux</td>\n",
       "      <td>21.27</td>\n",
       "      <td>Ouest</td>\n",
       "    </tr>\n",
       "    <tr>\n",
       "      <th>63</th>\n",
       "      <td>Nantes</td>\n",
       "      <td>21.13</td>\n",
       "      <td>Ouest</td>\n",
       "    </tr>\n",
       "    <tr>\n",
       "      <th>79</th>\n",
       "      <td>Rouen</td>\n",
       "      <td>20.97</td>\n",
       "      <td>Ouest</td>\n",
       "    </tr>\n",
       "    <tr>\n",
       "      <th>92</th>\n",
       "      <td>Tours</td>\n",
       "      <td>20.79</td>\n",
       "      <td>Centre</td>\n",
       "    </tr>\n",
       "    <tr>\n",
       "      <th>73</th>\n",
       "      <td>Pessac</td>\n",
       "      <td>20.71</td>\n",
       "      <td>Sud-Ouest</td>\n",
       "    </tr>\n",
       "    <tr>\n",
       "      <th>85</th>\n",
       "      <td>Saint-Quentin</td>\n",
       "      <td>20.46</td>\n",
       "      <td>Nord</td>\n",
       "    </tr>\n",
       "    <tr>\n",
       "      <th>15</th>\n",
       "      <td>Besançon</td>\n",
       "      <td>20.20</td>\n",
       "      <td>Est</td>\n",
       "    </tr>\n",
       "    <tr>\n",
       "      <th>69</th>\n",
       "      <td>Orléans</td>\n",
       "      <td>20.05</td>\n",
       "      <td>Centre</td>\n",
       "    </tr>\n",
       "    <tr>\n",
       "      <th>82</th>\n",
       "      <td>Saint-Etienne</td>\n",
       "      <td>19.90</td>\n",
       "      <td>Sud-Est</td>\n",
       "    </tr>\n",
       "    <tr>\n",
       "      <th>98</th>\n",
       "      <td>Villeurbanne</td>\n",
       "      <td>19.85</td>\n",
       "      <td>Sud-Est</td>\n",
       "    </tr>\n",
       "  </tbody>\n",
       "</table>\n",
       "</div>"
      ],
      "text/plain": [
       "                   X      Y          Z\n",
       "49             Lille  36.17       Nord\n",
       "91         Tourcoing  33.61       Nord\n",
       "66             Nimes  30.23  Sud-Ouest\n",
       "97  Villeneuve-d'Asq  29.96       Nord\n",
       "39         Dunkerque  28.69       Nord\n",
       "78           Roubaix  27.97       Nord\n",
       "21             Brest  25.99      Ouest\n",
       "45  La Seyne-sur-Mer  25.98    Sud-Est\n",
       "8              Arles  24.49    Sud-Est\n",
       "24            Calais  23.36       Nord\n",
       "12           Avignon  22.41    Sud-Est\n",
       "16           Béziers  22.14  Sud-Ouest\n",
       "18          Bordeaux  22.11  Sud-Ouest\n",
       "1            Ajaccio  22.06    Sud-Est\n",
       "88        Strasbourg  22.04        Est\n",
       "54         Marseille  21.93    Sud-Est\n",
       "77            Rennes  21.75      Ouest\n",
       "74          Poitiers  21.55     Centre\n",
       "58       Montpellier  21.40  Sud-Ouest\n",
       "71               Pau  21.31  Sud-Ouest\n",
       "40            Evreux  21.27      Ouest\n",
       "63            Nantes  21.13      Ouest\n",
       "79             Rouen  20.97      Ouest\n",
       "92             Tours  20.79     Centre\n",
       "73            Pessac  20.71  Sud-Ouest\n",
       "85     Saint-Quentin  20.46       Nord\n",
       "15          Besançon  20.20        Est\n",
       "69           Orléans  20.05     Centre\n",
       "82     Saint-Etienne  19.90    Sud-Est\n",
       "98      Villeurbanne  19.85    Sud-Est"
      ]
     },
     "execution_count": 148,
     "metadata": {},
     "output_type": "execute_result"
    }
   ],
   "source": [
    "fileCapital.sort_values('Y',ascending=False).head((round(0.3*len(fileCapital))))"
   ]
  },
  {
   "cell_type": "markdown",
   "id": "872c4ea5",
   "metadata": {},
   "source": [
    "### 20% en dessous de la moyenne de la taxe d'habitation "
   ]
  },
  {
   "cell_type": "code",
   "execution_count": 149,
   "id": "ab86d324",
   "metadata": {},
   "outputs": [
    {
     "data": {
      "text/html": [
       "<div>\n",
       "<style scoped>\n",
       "    .dataframe tbody tr th:only-of-type {\n",
       "        vertical-align: middle;\n",
       "    }\n",
       "\n",
       "    .dataframe tbody tr th {\n",
       "        vertical-align: top;\n",
       "    }\n",
       "\n",
       "    .dataframe thead th {\n",
       "        text-align: right;\n",
       "    }\n",
       "</style>\n",
       "<table border=\"1\" class=\"dataframe\">\n",
       "  <thead>\n",
       "    <tr style=\"text-align: right;\">\n",
       "      <th></th>\n",
       "      <th>X</th>\n",
       "      <th>Y</th>\n",
       "      <th>Z</th>\n",
       "    </tr>\n",
       "  </thead>\n",
       "  <tbody>\n",
       "    <tr>\n",
       "      <th>64</th>\n",
       "      <td>Neuilly-sur-Seine</td>\n",
       "      <td>3.68</td>\n",
       "      <td>Ile-de-France</td>\n",
       "    </tr>\n",
       "    <tr>\n",
       "      <th>35</th>\n",
       "      <td>Courbevoie</td>\n",
       "      <td>4.86</td>\n",
       "      <td>Ile-de-France</td>\n",
       "    </tr>\n",
       "    <tr>\n",
       "      <th>62</th>\n",
       "      <td>Nanterre</td>\n",
       "      <td>6.13</td>\n",
       "      <td>Ile-de-France</td>\n",
       "    </tr>\n",
       "    <tr>\n",
       "      <th>96</th>\n",
       "      <td>Versailles</td>\n",
       "      <td>8.95</td>\n",
       "      <td>Ile-de-France</td>\n",
       "    </tr>\n",
       "    <tr>\n",
       "      <th>70</th>\n",
       "      <td>Paris</td>\n",
       "      <td>9.15</td>\n",
       "      <td>Ile-de-France</td>\n",
       "    </tr>\n",
       "    <tr>\n",
       "      <th>43</th>\n",
       "      <td>Ivry-sur-Seine</td>\n",
       "      <td>9.16</td>\n",
       "      <td>Ile-de-France</td>\n",
       "    </tr>\n",
       "    <tr>\n",
       "      <th>81</th>\n",
       "      <td>Saint-Denis</td>\n",
       "      <td>9.17</td>\n",
       "      <td>Ile-de-France</td>\n",
       "    </tr>\n",
       "    <tr>\n",
       "      <th>19</th>\n",
       "      <td>Boulogne-Billancourt</td>\n",
       "      <td>9.46</td>\n",
       "      <td>Ile-de-France</td>\n",
       "    </tr>\n",
       "    <tr>\n",
       "      <th>9</th>\n",
       "      <td>Asnières-sur-Seine</td>\n",
       "      <td>10.13</td>\n",
       "      <td>Ile-de-France</td>\n",
       "    </tr>\n",
       "    <tr>\n",
       "      <th>53</th>\n",
       "      <td>Maisons-Alfort</td>\n",
       "      <td>10.30</td>\n",
       "      <td>Ile-de-France</td>\n",
       "    </tr>\n",
       "    <tr>\n",
       "      <th>38</th>\n",
       "      <td>Drancy</td>\n",
       "      <td>10.42</td>\n",
       "      <td>Ile-de-France</td>\n",
       "    </tr>\n",
       "    <tr>\n",
       "      <th>83</th>\n",
       "      <td>St-Maur-des-Fossés</td>\n",
       "      <td>10.82</td>\n",
       "      <td>Ile-de-France</td>\n",
       "    </tr>\n",
       "    <tr>\n",
       "      <th>6</th>\n",
       "      <td>Antony</td>\n",
       "      <td>11.07</td>\n",
       "      <td>Ile-de-France</td>\n",
       "    </tr>\n",
       "    <tr>\n",
       "      <th>99</th>\n",
       "      <td>Vitry-sur-Seine</td>\n",
       "      <td>11.50</td>\n",
       "      <td>Ile-de-France</td>\n",
       "    </tr>\n",
       "    <tr>\n",
       "      <th>41</th>\n",
       "      <td>Fontenay-sous-Bois</td>\n",
       "      <td>12.10</td>\n",
       "      <td>Ile-de-France</td>\n",
       "    </tr>\n",
       "    <tr>\n",
       "      <th>87</th>\n",
       "      <td>Sartrouville</td>\n",
       "      <td>12.38</td>\n",
       "      <td>Ile-de-France</td>\n",
       "    </tr>\n",
       "    <tr>\n",
       "      <th>10</th>\n",
       "      <td>Aubervilliers</td>\n",
       "      <td>12.45</td>\n",
       "      <td>Ile-de-France</td>\n",
       "    </tr>\n",
       "    <tr>\n",
       "      <th>57</th>\n",
       "      <td>Montauban</td>\n",
       "      <td>12.72</td>\n",
       "      <td>Sud-Ouest</td>\n",
       "    </tr>\n",
       "    <tr>\n",
       "      <th>59</th>\n",
       "      <td>Montreuil</td>\n",
       "      <td>13.67</td>\n",
       "      <td>Ile-de-France</td>\n",
       "    </tr>\n",
       "    <tr>\n",
       "      <th>31</th>\n",
       "      <td>Cholet</td>\n",
       "      <td>14.00</td>\n",
       "      <td>Ouest</td>\n",
       "    </tr>\n",
       "    <tr>\n",
       "      <th>34</th>\n",
       "      <td>Colombes</td>\n",
       "      <td>14.16</td>\n",
       "      <td>Ile-de-France</td>\n",
       "    </tr>\n",
       "    <tr>\n",
       "      <th>5</th>\n",
       "      <td>Antibes</td>\n",
       "      <td>14.30</td>\n",
       "      <td>Sud-Est</td>\n",
       "    </tr>\n",
       "    <tr>\n",
       "      <th>80</th>\n",
       "      <td>Rueil-Malmaison</td>\n",
       "      <td>14.93</td>\n",
       "      <td>Ile-de-France</td>\n",
       "    </tr>\n",
       "    <tr>\n",
       "      <th>4</th>\n",
       "      <td>Annecy</td>\n",
       "      <td>14.97</td>\n",
       "      <td>Sud-Est</td>\n",
       "    </tr>\n",
       "    <tr>\n",
       "      <th>76</th>\n",
       "      <td>Reims</td>\n",
       "      <td>14.98</td>\n",
       "      <td>Est</td>\n",
       "    </tr>\n",
       "    <tr>\n",
       "      <th>28</th>\n",
       "      <td>Champigny/Marne</td>\n",
       "      <td>15.09</td>\n",
       "      <td>Ile-de-France</td>\n",
       "    </tr>\n",
       "    <tr>\n",
       "      <th>13</th>\n",
       "      <td>Beauvais</td>\n",
       "      <td>15.37</td>\n",
       "      <td>Nord</td>\n",
       "    </tr>\n",
       "    <tr>\n",
       "      <th>11</th>\n",
       "      <td>Aulnay-sous-Bois</td>\n",
       "      <td>15.59</td>\n",
       "      <td>Ile-de-France</td>\n",
       "    </tr>\n",
       "    <tr>\n",
       "      <th>20</th>\n",
       "      <td>Bourges</td>\n",
       "      <td>15.77</td>\n",
       "      <td>Centre</td>\n",
       "    </tr>\n",
       "    <tr>\n",
       "      <th>22</th>\n",
       "      <td>Brive-la-Gaillarde</td>\n",
       "      <td>15.82</td>\n",
       "      <td>Centre</td>\n",
       "    </tr>\n",
       "  </tbody>\n",
       "</table>\n",
       "</div>"
      ],
      "text/plain": [
       "                       X      Y              Z\n",
       "64     Neuilly-sur-Seine   3.68  Ile-de-France\n",
       "35            Courbevoie   4.86  Ile-de-France\n",
       "62              Nanterre   6.13  Ile-de-France\n",
       "96            Versailles   8.95  Ile-de-France\n",
       "70                 Paris   9.15  Ile-de-France\n",
       "43        Ivry-sur-Seine   9.16  Ile-de-France\n",
       "81           Saint-Denis   9.17  Ile-de-France\n",
       "19  Boulogne-Billancourt   9.46  Ile-de-France\n",
       "9     Asnières-sur-Seine  10.13  Ile-de-France\n",
       "53        Maisons-Alfort  10.30  Ile-de-France\n",
       "38                Drancy  10.42  Ile-de-France\n",
       "83    St-Maur-des-Fossés  10.82  Ile-de-France\n",
       "6                 Antony  11.07  Ile-de-France\n",
       "99       Vitry-sur-Seine  11.50  Ile-de-France\n",
       "41    Fontenay-sous-Bois  12.10  Ile-de-France\n",
       "87          Sartrouville  12.38  Ile-de-France\n",
       "10         Aubervilliers  12.45  Ile-de-France\n",
       "57             Montauban  12.72      Sud-Ouest\n",
       "59             Montreuil  13.67  Ile-de-France\n",
       "31                Cholet  14.00          Ouest\n",
       "34              Colombes  14.16  Ile-de-France\n",
       "5                Antibes  14.30        Sud-Est\n",
       "80       Rueil-Malmaison  14.93  Ile-de-France\n",
       "4                 Annecy  14.97        Sud-Est\n",
       "76                 Reims  14.98            Est\n",
       "28       Champigny/Marne  15.09  Ile-de-France\n",
       "13              Beauvais  15.37           Nord\n",
       "11      Aulnay-sous-Bois  15.59  Ile-de-France\n",
       "20               Bourges  15.77         Centre\n",
       "22    Brive-la-Gaillarde  15.82         Centre"
      ]
     },
     "execution_count": 149,
     "metadata": {},
     "output_type": "execute_result"
    }
   ],
   "source": [
    "fileCapital.sort_values('Y').head((round(0.3*len(fileCapital))))"
   ]
  },
  {
   "cell_type": "code",
   "execution_count": null,
   "id": "21465907",
   "metadata": {},
   "outputs": [],
   "source": []
  }
 ],
 "metadata": {
  "kernelspec": {
   "display_name": "Python 3 (ipykernel)",
   "language": "python",
   "name": "python3"
  },
  "language_info": {
   "codemirror_mode": {
    "name": "ipython",
    "version": 3
   },
   "file_extension": ".py",
   "mimetype": "text/x-python",
   "name": "python",
   "nbconvert_exporter": "python",
   "pygments_lexer": "ipython3",
   "version": "3.9.13"
  }
 },
 "nbformat": 4,
 "nbformat_minor": 5
}
